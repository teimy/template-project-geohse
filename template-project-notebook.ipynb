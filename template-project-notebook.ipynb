{
 "cells": [
  {
   "cell_type": "markdown",
   "id": "94d88980",
   "metadata": {},
   "source": [
    "## Введение\n",
    "\n",
    "Здесь вы можете описать коротко контекст для вашего проекта: описать откуда вы взяли датасет, что в нем находится (своими словами). Если вы используете специальные термины, то стоит их кратко пояснить для стронних людей: проверьте на своих одногруппниках, убедитесь, что они понимают, что там написано, а не просто кивают головой. \n",
    "\n",
    "Здесь можно использовать **жирный текст**, *курсив* или $\\phi o \\rho \\mu y \\Lambda bI$:\n",
    "\n",
    "$$\n",
    "2 + 2 = 5\n",
    "$$\n",
    "\n",
    "В следующей ячейке можно загрузить файл и показать как он выглядит в `python`:"
   ]
  },
  {
   "cell_type": "code",
   "execution_count": null,
   "id": "fda48f7f",
   "metadata": {},
   "outputs": [],
   "source": [
    "# Например так:\n",
    "with open('data/имя_файла') as f:\n",
    "    file_content = f.read()\n",
    "print(file_content)"
   ]
  },
  {
   "cell_type": "markdown",
   "id": "f76696e6",
   "metadata": {},
   "source": [
    "## Следующий шаг\n",
    "\n",
    "Опишите шаги обработки вашего проекта. К примеру, вы вычищаете из файла ненужные символы или фильтруете его по годам. Или сразу начинаете его обрабатывать:"
   ]
  },
  {
   "cell_type": "code",
   "execution_count": null,
   "id": "672bd57a",
   "metadata": {},
   "outputs": [],
   "source": []
  },
  {
   "cell_type": "markdown",
   "id": "6491286e",
   "metadata": {},
   "source": [
    "## Еще шаг какой-нибудь\n",
    "\n",
    "Бла-бла-бла, вставляйте их сколько угодно"
   ]
  },
  {
   "cell_type": "code",
   "execution_count": null,
   "id": "59b1eb56",
   "metadata": {},
   "outputs": [],
   "source": []
  },
  {
   "cell_type": "markdown",
   "id": "67948a07",
   "metadata": {},
   "source": [
    "## Выводы\n",
    "\n",
    "Сделайте короткое описание того, что вы сделали и зачем, какие выводы должен извлечь читатель из вашего исследования."
   ]
  }
 ],
 "metadata": {
  "kernelspec": {
   "display_name": "Python 3 (ipykernel)",
   "language": "python",
   "name": "python3"
  },
  "language_info": {
   "codemirror_mode": {
    "name": "ipython",
    "version": 3
   },
   "file_extension": ".py",
   "mimetype": "text/x-python",
   "name": "python",
   "nbconvert_exporter": "python",
   "pygments_lexer": "ipython3",
   "version": "3.11.0"
  }
 },
 "nbformat": 4,
 "nbformat_minor": 5
}
